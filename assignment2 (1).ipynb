{
 "cells": [
  {
   "cell_type": "code",
   "execution_count": 5,
   "id": "7421b9ff-795d-4b8c-b113-61a4dd845294",
   "metadata": {},
   "outputs": [
    {
     "name": "stdin",
     "output_type": "stream",
     "text": [
      "Enter your marks ? 70\n"
     ]
    },
    {
     "name": "stdout",
     "output_type": "stream",
     "text": [
      "you got C grade.\n"
     ]
    }
   ],
   "source": [
    "# Q1\n",
    "marks_per = int(input('Enter your marks ?'))\n",
    "if marks_per > 90:\n",
    "    print(\"you got A grade.\")\n",
    "elif marks_per>80 and marks_per<=90:\n",
    "    print(\"you got B grade.\")\n",
    "elif marks_per>=60 and marks_per<=80:\n",
    "    print(\"you got C grade.\")\n",
    "else : \n",
    "    print(\"you got D grade.\")\n",
    "    \n",
    "    "
   ]
  },
  {
   "cell_type": "code",
   "execution_count": 8,
   "id": "9e3c8e83-46ea-471c-b34f-262f5b2387b4",
   "metadata": {},
   "outputs": [
    {
     "name": "stdin",
     "output_type": "stream",
     "text": [
      "Enter your cost price of your bike in Rs ? 500\n"
     ]
    },
    {
     "name": "stdout",
     "output_type": "stream",
     "text": [
      " your road tax will be 5 %. \n"
     ]
    }
   ],
   "source": [
    "# Q2\n",
    "cost_price = int(input('Enter your cost price of your bike in Rs ?'))\n",
    "if cost_price > 100000:\n",
    "    print(\" your road tax will be 15 %. \")\n",
    "elif cost_price > 50000 and cost_price <= 100000: \n",
    "     print(\" your road tax will be 10 %. \")\n",
    "else:\n",
    "     print(\" your road tax will be 5 %. \")\n",
    "    "
   ]
  },
  {
   "cell_type": "code",
   "execution_count": null,
   "id": "dd2f1b10-4ab4-4cc8-abcd-37da38516cac",
   "metadata": {},
   "outputs": [],
   "source": [
    "# Q3\n",
    "city = input('Enter your city ? ')\n",
    "if city == Dehli:\n",
    "    print('its Monument is Red Fort')\n",
    "elif city == Agra:\n",
    "    print('its Monument is Taj Mahal')\n",
    "else:    \n",
    "    print('its Monument is Jah Mahal')    "
   ]
  },
  {
   "cell_type": "code",
   "execution_count": 3,
   "id": "00cc4454-a600-4c50-944b-e33b84489ccc",
   "metadata": {},
   "outputs": [
    {
     "name": "stdin",
     "output_type": "stream",
     "text": [
      "Entert Num :  123\n"
     ]
    },
    {
     "name": "stdout",
     "output_type": "stream",
     "text": [
      "38  times we have divided user number by 3\n"
     ]
    },
    {
     "data": {
      "text/plain": [
       "9"
      ]
     },
     "execution_count": 3,
     "metadata": {},
     "output_type": "execute_result"
    }
   ],
   "source": [
    "# Q4\n",
    "num = int(input(\"Entert Num : \"))\n",
    "cnt=0\n",
    "while num>10:\n",
    "    cnt+=1\n",
    "    num-=3\n",
    "print(cnt,' times we have divided user number by 3')\n",
    "num\n"
   ]
  },
  {
   "cell_type": "code",
   "execution_count": null,
   "id": "0a99f1bb-8825-48e6-a8d3-a9b33ba3c5e3",
   "metadata": {},
   "outputs": [],
   "source": []
  },
  {
   "cell_type": "code",
   "execution_count": 2,
   "id": "e2b8f613-e64f-4c08-874a-ab67a801a786",
   "metadata": {},
   "outputs": [
    {
     "name": "stdout",
     "output_type": "stream",
     "text": [
      "1\n",
      "2\n",
      "3\n",
      "4\n",
      "5\n",
      "6\n",
      "7\n",
      "8\n",
      "9\n",
      "10\n",
      "11\n",
      "12\n",
      "13\n",
      "14\n",
      "15\n"
     ]
    }
   ],
   "source": [
    "# Q5   while loop is used to run a block code until a certain condition is met. Here, A while loop evaluates the condition. \n",
    "#       If the condition evaluates to True , the code inside the while loop is executed.\n",
    "\n",
    "i = 1\n",
    "while i<=15:\n",
    "    print(i)\n",
    "    i +=1"
   ]
  },
  {
   "cell_type": "code",
   "execution_count": 6,
   "id": "4e6fa20e-9563-4d35-811f-cac2f2290d0d",
   "metadata": {},
   "outputs": [
    {
     "name": "stdout",
     "output_type": "stream",
     "text": [
      "     \n",
      "    *\n",
      "   **\n",
      "  ***\n",
      " ****\n",
      "*****\n"
     ]
    }
   ],
   "source": [
    "# Q6\n",
    "n=5\n",
    "i=0\n",
    "while(i<=n):\n",
    "    print(\" \" * (n - i) +\"*\" * i)\n",
    "    i+=1\n"
   ]
  },
  {
   "cell_type": "code",
   "execution_count": 4,
   "id": "516c18c8-934d-4d8e-94cc-73b0b1a31377",
   "metadata": {},
   "outputs": [
    {
     "name": "stdout",
     "output_type": "stream",
     "text": [
      "10\n",
      "9\n",
      "8\n",
      "7\n",
      "6\n",
      "5\n",
      "4\n",
      "3\n",
      "2\n",
      "1\n"
     ]
    }
   ],
   "source": [
    "# Q7 \n",
    "\n",
    "i = 10\n",
    "while i>=1:\n",
    "    print(i)\n",
    "    i -=1\n"
   ]
  },
  {
   "cell_type": "code",
   "execution_count": 5,
   "id": "4bbc3b26-b8f8-4ab5-b905-b58c9f8c4cce",
   "metadata": {},
   "outputs": [
    {
     "name": "stdout",
     "output_type": "stream",
     "text": [
      "1\n",
      "2\n",
      "3\n",
      "4\n",
      "5\n",
      "6\n",
      "7\n",
      "8\n",
      "9\n",
      "10\n"
     ]
    }
   ],
   "source": [
    "# Q8\n",
    "i = 1\n",
    "while i<=10:\n",
    "    print(i)\n",
    "    i +=1\n"
   ]
  },
  {
   "cell_type": "code",
   "execution_count": null,
   "id": "eee0b3c0-6bac-4e3f-a8c7-74d7aee96c46",
   "metadata": {},
   "outputs": [],
   "source": []
  }
 ],
 "metadata": {
  "kernelspec": {
   "display_name": "Python 3 (ipykernel)",
   "language": "python",
   "name": "python3"
  },
  "language_info": {
   "codemirror_mode": {
    "name": "ipython",
    "version": 3
   },
   "file_extension": ".py",
   "mimetype": "text/x-python",
   "name": "python",
   "nbconvert_exporter": "python",
   "pygments_lexer": "ipython3",
   "version": "3.10.8"
  }
 },
 "nbformat": 4,
 "nbformat_minor": 5
}
